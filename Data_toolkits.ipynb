{
  "nbformat": 4,
  "nbformat_minor": 0,
  "metadata": {
    "colab": {
      "provenance": []
    },
    "kernelspec": {
      "name": "python3",
      "display_name": "Python 3"
    },
    "language_info": {
      "name": "python"
    }
  },
  "cells": [
    {
      "cell_type": "markdown",
      "source": [
        "# **---- THEORECTICAL QUESTION ------**\n",
        "\n"
      ],
      "metadata": {
        "id": "7yJgHtl4srZx"
      }
    },
    {
      "cell_type": "markdown",
      "source": [
        "1 . What is NumPy, and why is it widely used in Python ?\n",
        "-   Ans:- NumPy (Numerical Python) is a fundamental package for scientific computing in Python. It provides support for large, multi-dimensional arrays and matrices, along with a collection of mathematical functions to operate on these arrays.\n",
        "   * Widely used because:\n",
        "   * Efficiency: NumPy arrays are much faster than Python lists for numerical operations.\n",
        "   * Functionality: Offers a wide range of mathematical, logical, and shape manipulation functions.\n",
        "   * Foundation: Forms the basis for many other data science libraries.\n"
      ],
      "metadata": {
        "id": "PUp_P7qRtHyZ"
      }
    },
    {
      "cell_type": "markdown",
      "source": [
        "2* How does broadcasting work in NumPy?\n",
        "-  Ans:-\n",
        "         Broadcasting allows NumPy to perform arithmetic operations on arrays\n",
        "         with different shapes. NumPy automatically expands the smaller array to match the shape of the larger array, enabling element-wise operations.\n",
        "       * Rules:-\n",
        "       * Dimensions are compatible when they are equal or one of them is 1.\n",
        "       * Arrays with smaller ndim are padded with 1s on their leading (left) side."
      ],
      "metadata": {
        "id": "yVS6X2uhtpSP"
      }
    },
    {
      "cell_type": "markdown",
      "source": [
        "3* What is a Pandas DataFrame?\n",
        "-  Ans:-\n",
        "        A Pandas DataFrame is a 2-dimensional labeled data structure with\n",
        "        columns of potentially different types. We can think of it like a spreadsheet or SQL table.\n",
        "   "
      ],
      "metadata": {
        "id": "XyGn0EJhuAcJ"
      }
    },
    {
      "cell_type": "markdown",
      "source": [
        "4* Explain the use of the groupby() method in Pandas.\n",
        "- Ans:-  \n",
        "     The groupby() method is used to group rows of a DataFrame based on one or more columns. It allows you to split the data into groups, apply a function to each group independently , and then combine the results."
      ],
      "metadata": {
        "id": "pm-samgfugiS"
      }
    },
    {
      "cell_type": "markdown",
      "source": [
        "5* Why is Seaborn preferred for statistical visualizations?\n",
        "-   Ans:-\n",
        "      Seaborn is built on top of Matplotlib and provides a high-level interface for drawing attractive and informative statistical graphics.\n",
        "        * Reasons:\n",
        "          * Aesthetic Defaults: Creates visually appealing plots with less code.\n",
        "          * Statistical Functions: Offers built-in support for statistical  \n",
        "            plots\n",
        "          * DataFrame Integration: Works seamlessly with Pandas DataFrames."
      ],
      "metadata": {
        "id": "Xyl2o2aauxsv"
      }
    },
    {
      "cell_type": "markdown",
      "source": [
        "6* What are the differences between NumPy arrays and Python lists?\n",
        "-   Ans:-\n",
        "          NumPy arrays are homogeneous , while Python lists can contain elements of different types.\n",
        "          NumPy arrays are significantly faster for numerical operations due to their fixed type and contiguous memory allocation.\n",
        "          NumPy provides a wide range of mathematical functions and operations specifically designed for arrays."
      ],
      "metadata": {
        "id": "hTWwxkOZvJ3q"
      }
    },
    {
      "cell_type": "markdown",
      "source": [
        "7 * What is a heatmap, and when should it be used?\n",
        "-   Ans:-\n",
        "        A heatmap is a graphical representation of data where values are depicted by colors. It's used to visualize patterns and correlations in data matrices.\n",
        "          * Uses:-\n",
        "            * Correlation matrices.\n",
        "            * Confusion matrices in machine learning.\n",
        "            * Showing the magnitude of data points in a grid format."
      ],
      "metadata": {
        "id": "AW4RIMyOvYFp"
      }
    },
    {
      "cell_type": "markdown",
      "source": [
        "8* What does the term \"vectorized operation\" mean in NumPy?\n",
        "-  Ans:-  A vectorized operation applies a function or operation to an entire array at once, rather than iterating through each element individually. This is done using optimized C code under the hood, making it much faster."
      ],
      "metadata": {
        "id": "-O44kjWTz3Y0"
      }
    },
    {
      "cell_type": "markdown",
      "source": [
        "9* How does Matplotlib differ from Plotly?\n",
        "-   Ans:- Matplotlib: A static plotting library, meaning the plots are  \n",
        "       generally images. It's highly customizable but can require more code.\n",
        "       * Plotly: An interactive plotting library that creates web-based\n",
        "         visualizations. Plots are interactive, allowing users to zoom, pan, and hover over data points."
      ],
      "metadata": {
        "id": "Sler13OW0BSn"
      }
    },
    {
      "cell_type": "markdown",
      "source": [
        "10* What is the significance of hierarchical indexing in Pandas?\n",
        "-  Ans:- Hierarchical indexing allows you to have multiple index levels on rows\n",
        "   or columns of a DataFrame. This enables you to work with higher-dimensional data in a 2D structure."
      ],
      "metadata": {
        "id": "817VrMmk0K0m"
      }
    },
    {
      "cell_type": "markdown",
      "source": [
        "11* What is the role of Seaborn's pairplot() function?\n",
        "-  Ans:- pairplot() creates a matrix of scatter plots for each pair of  \n",
        "   variables in a DataFrame, along with histograms or KDE plots for the diagonal.\n",
        "   * Used for quickly exploring relationships and distributions of multiple\n",
        "     variables in a dataset."
      ],
      "metadata": {
        "id": "SgU90CQj0fBM"
      }
    },
    {
      "cell_type": "markdown",
      "source": [
        "12* What is the purpose of the describe function in Pandas?\n",
        "-  Ans:-  \n",
        "         describe() generates descriptive statistics of numerical columns in  \n",
        "         a DataFrame.\n",
        "          * Provides a quick overview of the central tendency and dispersion of the data."
      ],
      "metadata": {
        "id": "UWM8MaYc0wtZ"
      }
    },
    {
      "cell_type": "markdown",
      "source": [
        "13* Why is handling missing data important in Pandas?\n",
        "-  Ans:-  Missing data can lead to biased results and errors in analysis.  \n",
        "  Pandas provides tools to identify, handle, and impute missing values.\n",
        "   * Common methods:\n",
        "     * isnull() and notnull() to detect missing values.\n",
        "     * dropna() to remove rows or columns with missing values.\n",
        "     * fillna() to replace missing values with a specific value or method."
      ],
      "metadata": {
        "id": "fgYReSH_0wvf"
      }
    },
    {
      "cell_type": "markdown",
      "source": [
        "14 * What are the benefits of using Plotly for data visualization?\n",
        "-  Ans:-\n",
        "       Plots are dynamic, allowing for exploration and deeper insights.\n",
        "       Can be easily embedded in web applications or shared online.\n",
        "       Supports a wide range of chart types.\n",
        "       Produces visually appealing and professional-looking plots."
      ],
      "metadata": {
        "id": "NikTofBG0wyk"
      }
    },
    {
      "cell_type": "markdown",
      "source": [
        "15* How does NumPy handle multidimensional arrays?\n",
        "-  **Ans**:- NumPy arrays can have any number of dimensions. The shape of an array\n",
        "   is defined by a tuple of integers, where each integer represents the size of the corresponding dimension.\n",
        "   * NumPy provides functions for creating, indexing, slicing, and manipulating multidimensional arrays."
      ],
      "metadata": {
        "id": "CxVJ01z91R9X"
      }
    },
    {
      "cell_type": "markdown",
      "source": [
        "16 * What is the role of Bokeh in data visualization?\n",
        "-  **Ans**:-  Bokeh is an interactive visualization library that focuses on creating web-based plots for modern web browsers."
      ],
      "metadata": {
        "id": "IPZC9be11jgq"
      }
    },
    {
      "cell_type": "markdown",
      "source": [
        "17 * Explain the difference between apply() and map() in Pandas.\n",
        "-  **Ans**:-\n",
        "             map(): Used for element-wise transformations on a Pandas Series .\n",
        "             It applies a function to each element.\n",
        "             * apply(): Can be used on both Series and DataFrames. It applies a function along an axis . More versatile than map()."
      ],
      "metadata": {
        "id": "j3OpifVN1rig"
      }
    },
    {
      "cell_type": "markdown",
      "source": [
        "18 * What are some advanced features of NumPy?\n",
        "-   **Ans**:-\n",
        "   Fancy Indexing: Selecting array elements using an array of indices.\n",
        "   * Masking: Selecting elements based on a boolean condition.\n",
        "   * Linear Algebra: Functions for matrix operations, decompositions, etc.\n",
        "   * Random Number Generation: Tools for generating random numbers from various distributions.\n"
      ],
      "metadata": {
        "id": "nTlV9DVG15oy"
      }
    },
    {
      "cell_type": "markdown",
      "source": [
        "19* How does Pandas simplify time series analysis?\n",
        "-  **Ans**:-\n",
        "              Pandas has built-in support for time series data, including:\n",
        "              * DatetimeIndex: A specialized index for time series data.\n",
        "              * Resampling: Changing the frequency of time series data.\n",
        "              * Rolling Windows: Calculating statistics over sliding windows.\n",
        "              * Time Zone Handling: Working with data from different time zones."
      ],
      "metadata": {
        "id": "9cEjFr8h2HbL"
      }
    },
    {
      "cell_type": "markdown",
      "source": [
        "20* What is the role of a pivot table in Pandas?\n",
        "-  **Ans**:- A pivot table summarizes data by aggregating it based on one or more categorical variables. It allows you to reshape and analyze data in a tabular format."
      ],
      "metadata": {
        "id": "wsos8iIQ2Xky"
      }
    },
    {
      "cell_type": "markdown",
      "source": [
        "21* Why is NumPy's array slicing faster than Python's list slicing?\n",
        "-   **Ans**:-\n",
        "        NumPy arrays are stored in contiguous memory blocks, making  \n",
        "        slicing very efficient.\n",
        "        * Python lists are stored as pointers to objects, which can be scattered in memory, resulting in slower slicing."
      ],
      "metadata": {
        "id": "830epnVe2oiW"
      }
    },
    {
      "cell_type": "markdown",
      "source": [
        "22* What are some common use cases for Seaborn?\n",
        "-   **Ans**:-\n",
        "        Statistical Analysis: Visualizing distributions, relationships between variables, and statistical models.\n",
        "          * Data Exploration: Quickly generating plots to understand the data.\n",
        "          * Presentation: Creating visually appealing and informative plots for reports and presentations."
      ],
      "metadata": {
        "id": "6UPiFOHf235L"
      }
    },
    {
      "cell_type": "markdown",
      "source": [
        "# **----- PRACTICAL QUESTION -----**"
      ],
      "metadata": {
        "id": "PFDkqp6j3Ojl"
      }
    },
    {
      "cell_type": "code",
      "source": [
        "\n",
        "# 1 Create a 2D NumPy array and calculate the sum of each row\n",
        "import numpy as np\n",
        "\n",
        "arr = np.array([[1, 2, 3], [4, 5, 6]])\n",
        "row_sums = np.sum(arr, axis=0)\n",
        "print(row_sums)\n"
      ],
      "metadata": {
        "colab": {
          "base_uri": "https://localhost:8080/"
        },
        "id": "6nr13kQk34ga",
        "outputId": "71b566f6-49c3-4a37-b85d-e9ee5605c4cf"
      },
      "execution_count": 4,
      "outputs": [
        {
          "output_type": "stream",
          "name": "stdout",
          "text": [
            "[5 7 9]\n"
          ]
        }
      ]
    },
    {
      "cell_type": "code",
      "source": [
        "arr.ndim"
      ],
      "metadata": {
        "colab": {
          "base_uri": "https://localhost:8080/"
        },
        "id": "Y5bZjfGP4gTK",
        "outputId": "c5c949a4-19d8-4300-8372-8564a88135e8"
      },
      "execution_count": 3,
      "outputs": [
        {
          "output_type": "execute_result",
          "data": {
            "text/plain": [
              "2"
            ]
          },
          "metadata": {},
          "execution_count": 3
        }
      ]
    },
    {
      "cell_type": "code",
      "source": [
        "# 2 Write a Pandas script to find the mean of a specific column in a DataFrame\n",
        "\n",
        "import pandas as pd\n",
        "\n",
        "# Create a sample DataFrame\n",
        "data = {'A': [1, 2, 3, 4, 5],\n",
        "        'B': [10, 20, 30, 40, 50]}\n",
        "df = pd.DataFrame(data)\n",
        "# Calculate the mean of column 'B'\n",
        "mean_of_B = df['B'].mean()\n",
        "print(mean_of_B)\n"
      ],
      "metadata": {
        "colab": {
          "base_uri": "https://localhost:8080/"
        },
        "id": "4MuuvMDM5Kd6",
        "outputId": "49915861-459f-450b-b5cc-e37974507374"
      },
      "execution_count": 5,
      "outputs": [
        {
          "output_type": "stream",
          "name": "stdout",
          "text": [
            "30.0\n"
          ]
        }
      ]
    },
    {
      "cell_type": "code",
      "source": [
        "# 3Create a scatter plot using Matplotlib\n",
        "import matplotlib.pyplot as plt\n",
        "\n",
        "# Sample data\n",
        "x = [1, 2, 3, 4, 5]\n",
        "y = [2, 3, 5, 7, 11]\n",
        "\n",
        "# Create the scatter plot\n",
        "plt.scatter(x, y)\n",
        "\n",
        "# Add labels and title hu\n",
        "plt.xlabel('X-axis')\n",
        "plt.ylabel('Y-axis')\n",
        "plt.title('Scatter Plot Example')\n",
        "\n",
        "# Show the plot\n",
        "plt.show()"
      ],
      "metadata": {
        "colab": {
          "base_uri": "https://localhost:8080/",
          "height": 472
        },
        "id": "pVXLs7J16dIW",
        "outputId": "646b6f08-a970-4fef-94fe-2c3888ad1320"
      },
      "execution_count": 6,
      "outputs": [
        {
          "output_type": "display_data",
          "data": {
            "text/plain": [
              "<Figure size 640x480 with 1 Axes>"
            ],
            "image/png": "[encoded data removed]"
          },
          "metadata": {}
        }
      ]
    },
    {
      "cell_type": "code",
      "source": [
        "# 4How do you calculate the correlation matrix using Seaborn and visualize it ?with a heatmap\n",
        "import seaborn as sns\n",
        "import matplotlib.pyplot as plt\n",
        "import pandas as pd\n",
        "\n",
        "# Sample DataFrame\n",
        "data = {'A': [1, 2, 3, 4, 5],\n",
        "        'B': [2, 4, 5, 4, 5],\n",
        "        'C': [5, 4, 3, 2, 1]}\n",
        "df = pd.DataFrame(data)\n",
        "\n",
        "# Calculate the correlation matrix\n",
        "correlation_matrix = df.corr()\n",
        "\n",
        "# Create the heatmap\n",
        "sns.heatmap(correlation_matrix, annot=True, cmap='coolwarm')\n",
        "\n",
        "# Show the plot\n",
        "plt.show()"
      ],
      "metadata": {
        "colab": {
          "base_uri": "https://localhost:8080/",
          "height": 435
        },
        "id": "ybtlMFFr66i0",
        "outputId": "9fa9080a-f6e7-4f42-b877-6f7b394bf375"
      },
      "execution_count": 7,
      "outputs": [
        {
          "output_type": "display_data",
          "data": {
            "text/plain": [
              "<Figure size 640x480 with 2 Axes>"
            ],
            "image/png": "[encoded data removed]"
          },
          "metadata": {}
        }
      ]
    },
    {
      "cell_type": "code",
      "source": [
        "# 5*Generate a bar plot using Plotly\n",
        "import plotly.graph_objects as go\n",
        "\n",
        "# Sample data\n",
        "categories = ['A', 'B', 'C', 'D']\n",
        "values = [20, 35, 30, 45]\n",
        "\n",
        "# Create the bar plot\n",
        "fig = go.Figure(data=[go.Bar(x=categories, y=values)])\n",
        "\n",
        "# Show the plot\n",
        "fig.show()"
      ],
      "metadata": {
        "colab": {
          "base_uri": "https://localhost:8080/",
          "height": 542
        },
        "id": "V_kEJH6b727O",
        "outputId": "2b5d8edc-0922-4b50-9b7b-400b876acfec"
      },
      "execution_count": 8,
      "outputs": [
        {
          "output_type": "display_data",
          "data": {
            "text/html": [
              "<html>\n",
              "<head><meta charset=\"utf-8\" /></head>\n",
              "<body>\n",
              "    <div>            <script src=\"https://cdnjs.cloudflare.com/ajax/libs/mathjax/2.7.5/MathJax.js?config=TeX-AMS-MML_SVG\"></script><script type=\"text/javascript\">if (window.MathJax && window.MathJax.Hub && window.MathJax.Hub.Config) {window.MathJax.Hub.Config({SVG: {font: \"STIX-Web\"}});}</script>                <script type=\"text/javascript\">window.PlotlyConfig = {MathJaxConfig: 'local'};</script>\n",
              "        <script charset=\"utf-8\" src=\"https://cdn.plot.ly/plotly-2.35.2.min.js\"></script>                <div id=\"1cb2e205-8adf-4d98-bf02-0a7debff20d6\" class=\"plotly-graph-div\" style=\"height:525px; width:100%;\"></div>            <script type=\"text/javascript\">                                    window.PLOTLYENV=window.PLOTLYENV || {};                                    if (document.getElementById(\"1cb2e205-8adf-4d98-bf02-0a7debff20d6\")) {                    Plotly.newPlot(                        \"1cb2e205-8adf-4d98-bf02-0a7debff20d6\",                        [{\"x\":[\"A\",\"B\",\"C\",\"D\"],\"y\":[20,35,30,45],\"type\":\"bar\"}],                        {\"template\":{\"data\":{\"histogram2dcontour\":[{\"type\":\"histogram2dcontour\",\"colorbar\":{\"outlinewidth\":0,\"ticks\":\"\"},\"colorscale\":[[0.0,\"#0d0887\"],[0.1111111111111111,\"#46039f\"],[0.2222222222222222,\"#7201a8\"],[0.3333333333333333,\"#9c179e\"],[0.4444444444444444,\"#bd3786\"],[0.5555555555555556,\"#d8576b\"],[0.6666666666666666,\"#ed7953\"],[0.7777777777777778,\"#fb9f3a\"],[0.8888888888888888,\"#fdca26\"],[1.0,\"#f0f921\"]]}],\"choropleth\":[{\"type\":\"choropleth\",\"colorbar\":{\"outlinewidth\":0,\"ticks\":\"\"}}],\"histogram2d\":[{\"type\":\"histogram2d\",\"colorbar\":{\"outlinewidth\":0,\"ticks\":\"\"},\"colorscale\":[[0.0,\"#0d0887\"],[0.1111111111111111,\"#46039f\"],[0.2222222222222222,\"#7201a8\"],[0.3333333333333333,\"#9c179e\"],[0.4444444444444444,\"#bd3786\"],[0.5555555555555556,\"#d8576b\"],[0.6666666666666666,\"#ed7953\"],[0.7777777777777778,\"#fb9f3a\"],[0.8888888888888888,\"#fdca26\"],[1.0,\"#f0f921\"]]}],\"heatmap\":[{\"type\":\"heatmap\",\"colorbar\":{\"outlinewidth\":0,\"ticks\":\"\"},\"colorscale\":[[0.0,\"#0d0887\"],[0.1111111111111111,\"#46039f\"],[0.2222222222222222,\"#7201a8\"],[0.3333333333333333,\"#9c179e\"],[0.4444444444444444,\"#bd3786\"],[0.5555555555555556,\"#d8576b\"],[0.6666666666666666,\"#ed7953\"],[0.7777777777777778,\"#fb9f3a\"],[0.8888888888888888,\"#fdca26\"],[1.0,\"#f0f921\"]]}],\"heatmapgl\":[{\"type\":\"heatmapgl\",\"colorbar\":{\"outlinewidth\":0,\"ticks\":\"\"},\"colorscale\":[[0.0,\"#0d0887\"],[0.1111111111111111,\"#46039f\"],[0.2222222222222222,\"#7201a8\"],[0.3333333333333333,\"#9c179e\"],[0.4444444444444444,\"#bd3786\"],[0.5555555555555556,\"#d8576b\"],[0.6666666666666666,\"#ed7953\"],[0.7777777777777778,\"#fb9f3a\"],[0.8888888888888888,\"#fdca26\"],[1.0,\"#f0f921\"]]}],\"contourcarpet\":[{\"type\":\"contourcarpet\",\"colorbar\":{\"outlinewidth\":0,\"ticks\":\"\"}}],\"contour\":[{\"type\":\"contour\",\"colorbar\":{\"outlinewidth\":0,\"ticks\":\"\"},\"colorscale\":[[0.0,\"#0d0887\"],[0.1111111111111111,\"#46039f\"],[0.2222222222222222,\"#7201a8\"],[0.3333333333333333,\"#9c179e\"],[0.4444444444444444,\"#bd3786\"],[0.5555555555555556,\"#d8576b\"],[0.6666666666666666,\"#ed7953\"],[0.7777777777777778,\"#fb9f3a\"],[0.8888888888888888,\"#fdca26\"],[1.0,\"#f0f921\"]]}],\"surface\":[{\"type\":\"surface\",\"colorbar\":{\"outlinewidth\":0,\"ticks\":\"\"},\"colorscale\":[[0.0,\"#0d0887\"],[0.1111111111111111,\"#46039f\"],[0.2222222222222222,\"#7201a8\"],[0.3333333333333333,\"#9c179e\"],[0.4444444444444444,\"#bd3786\"],[0.5555555555555556,\"#d8576b\"],[0.6666666666666666,\"#ed7953\"],[0.7777777777777778,\"#fb9f3a\"],[0.8888888888888888,\"#fdca26\"],[1.0,\"#f0f921\"]]}],\"mesh3d\":[{\"type\":\"mesh3d\",\"colorbar\":{\"outlinewidth\":0,\"ticks\":\"\"}}],\"scatter\":[{\"fillpattern\":{\"fillmode\":\"overlay\",\"size\":10,\"solidity\":0.2},\"type\":\"scatter\"}],\"parcoords\":[{\"type\":\"parcoords\",\"line\":{\"colorbar\":{\"outlinewidth\":0,\"ticks\":\"\"}}}],\"scatterpolargl\":[{\"type\":\"scatterpolargl\",\"marker\":{\"colorbar\":{\"outlinewidth\":0,\"ticks\":\"\"}}}],\"bar\":[{\"error_x\":{\"color\":\"#2a3f5f\"},\"error_y\":{\"color\":\"#2a3f5f\"},\"marker\":{\"line\":{\"color\":\"#E5ECF6\",\"width\":0.5},\"pattern\":{\"fillmode\":\"overlay\",\"size\":10,\"solidity\":0.2}},\"type\":\"bar\"}],\"scattergeo\":[{\"type\":\"scattergeo\",\"marker\":{\"colorbar\":{\"outlinewidth\":0,\"ticks\":\"\"}}}],\"scatterpolar\":[{\"type\":\"scatterpolar\",\"marker\":{\"colorbar\":{\"outlinewidth\":0,\"ticks\":\"\"}}}],\"histogram\":[{\"marker\":{\"pattern\":{\"fillmode\":\"overlay\",\"size\":10,\"solidity\":0.2}},\"type\":\"histogram\"}],\"scattergl\":[{\"type\":\"scattergl\",\"marker\":{\"colorbar\":{\"outlinewidth\":0,\"ticks\":\"\"}}}],\"scatter3d\":[{\"type\":\"scatter3d\",\"line\":{\"colorbar\":{\"outlinewidth\":0,\"ticks\":\"\"}},\"marker\":{\"colorbar\":{\"outlinewidth\":0,\"ticks\":\"\"}}}],\"scattermapbox\":[{\"type\":\"scattermapbox\",\"marker\":{\"colorbar\":{\"outlinewidth\":0,\"ticks\":\"\"}}}],\"scatterternary\":[{\"type\":\"scatterternary\",\"marker\":{\"colorbar\":{\"outlinewidth\":0,\"ticks\":\"\"}}}],\"scattercarpet\":[{\"type\":\"scattercarpet\",\"marker\":{\"colorbar\":{\"outlinewidth\":0,\"ticks\":\"\"}}}],\"carpet\":[{\"aaxis\":{\"endlinecolor\":\"#2a3f5f\",\"gridcolor\":\"white\",\"linecolor\":\"white\",\"minorgridcolor\":\"white\",\"startlinecolor\":\"#2a3f5f\"},\"baxis\":{\"endlinecolor\":\"#2a3f5f\",\"gridcolor\":\"white\",\"linecolor\":\"white\",\"minorgridcolor\":\"white\",\"startlinecolor\":\"#2a3f5f\"},\"type\":\"carpet\"}],\"table\":[{\"cells\":{\"fill\":{\"color\":\"#EBF0F8\"},\"line\":{\"color\":\"white\"}},\"header\":{\"fill\":{\"color\":\"#C8D4E3\"},\"line\":{\"color\":\"white\"}},\"type\":\"table\"}],\"barpolar\":[{\"marker\":{\"line\":{\"color\":\"#E5ECF6\",\"width\":0.5},\"pattern\":{\"fillmode\":\"overlay\",\"size\":10,\"solidity\":0.2}},\"type\":\"barpolar\"}],\"pie\":[{\"automargin\":true,\"type\":\"pie\"}]},\"layout\":{\"autotypenumbers\":\"strict\",\"colorway\":[\"#636efa\",\"#EF553B\",\"#00cc96\",\"#ab63fa\",\"#FFA15A\",\"#19d3f3\",\"#FF6692\",\"#B6E880\",\"#FF97FF\",\"#FECB52\"],\"font\":{\"color\":\"#2a3f5f\"},\"hovermode\":\"closest\",\"hoverlabel\":{\"align\":\"left\"},\"paper_bgcolor\":\"white\",\"plot_bgcolor\":\"#E5ECF6\",\"polar\":{\"bgcolor\":\"#E5ECF6\",\"angularaxis\":{\"gridcolor\":\"white\",\"linecolor\":\"white\",\"ticks\":\"\"},\"radialaxis\":{\"gridcolor\":\"white\",\"linecolor\":\"white\",\"ticks\":\"\"}},\"ternary\":{\"bgcolor\":\"#E5ECF6\",\"aaxis\":{\"gridcolor\":\"white\",\"linecolor\":\"white\",\"ticks\":\"\"},\"baxis\":{\"gridcolor\":\"white\",\"linecolor\":\"white\",\"ticks\":\"\"},\"caxis\":{\"gridcolor\":\"white\",\"linecolor\":\"white\",\"ticks\":\"\"}},\"coloraxis\":{\"colorbar\":{\"outlinewidth\":0,\"ticks\":\"\"}},\"colorscale\":{\"sequential\":[[0.0,\"#0d0887\"],[0.1111111111111111,\"#46039f\"],[0.2222222222222222,\"#7201a8\"],[0.3333333333333333,\"#9c179e\"],[0.4444444444444444,\"#bd3786\"],[0.5555555555555556,\"#d8576b\"],[0.6666666666666666,\"#ed7953\"],[0.7777777777777778,\"#fb9f3a\"],[0.8888888888888888,\"#fdca26\"],[1.0,\"#f0f921\"]],\"sequentialminus\":[[0.0,\"#0d0887\"],[0.1111111111111111,\"#46039f\"],[0.2222222222222222,\"#7201a8\"],[0.3333333333333333,\"#9c179e\"],[0.4444444444444444,\"#bd3786\"],[0.5555555555555556,\"#d8576b\"],[0.6666666666666666,\"#ed7953\"],[0.7777777777777778,\"#fb9f3a\"],[0.8888888888888888,\"#fdca26\"],[1.0,\"#f0f921\"]],\"diverging\":[[0,\"#8e0152\"],[0.1,\"#c51b7d\"],[0.2,\"#de77ae\"],[0.3,\"#f1b6da\"],[0.4,\"#fde0ef\"],[0.5,\"#f7f7f7\"],[0.6,\"#e6f5d0\"],[0.7,\"#b8e186\"],[0.8,\"#7fbc41\"],[0.9,\"#4d9221\"],[1,\"#276419\"]]},\"xaxis\":{\"gridcolor\":\"white\",\"linecolor\":\"white\",\"ticks\":\"\",\"title\":{\"standoff\":15},\"zerolinecolor\":\"white\",\"automargin\":true,\"zerolinewidth\":2},\"yaxis\":{\"gridcolor\":\"white\",\"linecolor\":\"white\",\"ticks\":\"\",\"title\":{\"standoff\":15},\"zerolinecolor\":\"white\",\"automargin\":true,\"zerolinewidth\":2},\"scene\":{\"xaxis\":{\"backgroundcolor\":\"#E5ECF6\",\"gridcolor\":\"white\",\"linecolor\":\"white\",\"showbackground\":true,\"ticks\":\"\",\"zerolinecolor\":\"white\",\"gridwidth\":2},\"yaxis\":{\"backgroundcolor\":\"#E5ECF6\",\"gridcolor\":\"white\",\"linecolor\":\"white\",\"showbackground\":true,\"ticks\":\"\",\"zerolinecolor\":\"white\",\"gridwidth\":2},\"zaxis\":{\"backgroundcolor\":\"#E5ECF6\",\"gridcolor\":\"white\",\"linecolor\":\"white\",\"showbackground\":true,\"ticks\":\"\",\"zerolinecolor\":\"white\",\"gridwidth\":2}},\"shapedefaults\":{\"line\":{\"color\":\"#2a3f5f\"}},\"annotationdefaults\":{\"arrowcolor\":\"#2a3f5f\",\"arrowhead\":0,\"arrowwidth\":1},\"geo\":{\"bgcolor\":\"white\",\"landcolor\":\"#E5ECF6\",\"subunitcolor\":\"white\",\"showland\":true,\"showlakes\":true,\"lakecolor\":\"white\"},\"title\":{\"x\":0.05},\"mapbox\":{\"style\":\"light\"}}}},                        {\"responsive\": true}                    ).then(function(){\n",
              "                            \n",
              "var gd = document.getElementById('1cb2e205-8adf-4d98-bf02-0a7debff20d6');\n",
              "var x = new MutationObserver(function (mutations, observer) {{\n",
              "        var display = window.getComputedStyle(gd).display;\n",
              "        if (!display || display === 'none') {{\n",
              "            console.log([gd, 'removed!']);\n",
              "            Plotly.purge(gd);\n",
              "            observer.disconnect();\n",
              "        }}\n",
              "}});\n",
              "\n",
              "// Listen for the removal of the full notebook cells\n",
              "var notebookContainer = gd.closest('#notebook-container');\n",
              "if (notebookContainer) {{\n",
              "    x.observe(notebookContainer, {childList: true});\n",
              "}}\n",
              "\n",
              "// Listen for the clearing of the current output cell\n",
              "var outputEl = gd.closest('.output');\n",
              "if (outputEl) {{\n",
              "    x.observe(outputEl, {childList: true});\n",
              "}}\n",
              "\n",
              "                        })                };                            </script>        </div>\n",
              "</body>\n",
              "</html>"
            ]
          },
          "metadata": {}
        }
      ]
    },
    {
      "cell_type": "code",
      "source": [
        "# 6 Create a DataFrame and add a new column based on an existing column\n",
        "import pandas as pd\n",
        "\n",
        "# Create a sample DataFrame\n",
        "data = {'values': [10, 20, 30, 40, 50]}\n",
        "df = pd.DataFrame(data)\n",
        "\n",
        "# Add a new column 'squared' based on 'values'\n",
        "df['squared'] = df['values'] ** 2\n",
        "\n",
        "print(df)"
      ],
      "metadata": {
        "colab": {
          "base_uri": "https://localhost:8080/"
        },
        "id": "hRrN2rb88IWz",
        "outputId": "175a3230-5b87-419f-b8e2-be4c2086f73f"
      },
      "execution_count": 9,
      "outputs": [
        {
          "output_type": "stream",
          "name": "stdout",
          "text": [
            "   values  squared\n",
            "0      10      100\n",
            "1      20      400\n",
            "2      30      900\n",
            "3      40     1600\n",
            "4      50     2500\n"
          ]
        }
      ]
    },
    {
      "cell_type": "code",
      "source": [
        "# 7. Write a program to perform element-wise multiplication of two NumPy arrays.\n",
        "import numpy as np\n",
        "# Create two NumPy arrays\n",
        "arr1 = np.array([1, 2, 3, 4])\n",
        "arr2 = np.array([2, 3, 4, 5])\n",
        "\n",
        "# Perform element-wise multiplication\n",
        "result = arr1 * arr2\n",
        "\n",
        "print(result)\n"
      ],
      "metadata": {
        "colab": {
          "base_uri": "https://localhost:8080/"
        },
        "id": "ztPToq8k8TUw",
        "outputId": "2b380550-4c28-44c4-a117-aa4e1852a474"
      },
      "execution_count": 10,
      "outputs": [
        {
          "output_type": "stream",
          "name": "stdout",
          "text": [
            "[ 2  6 12 20]\n"
          ]
        }
      ]
    },
    {
      "cell_type": "code",
      "source": [
        "# 8. Create a line plot with multiple lines using Matplotlib\n",
        "import matplotlib.pyplot as plt\n",
        "\n",
        "# Sample data\n",
        "x = [1, 2, 3, 4, 5]\n",
        "y1 = [2, 3, 5, 7, 11]\n",
        "y2 = [1, 4, 9, 16, 25]\n",
        "\n",
        "# Create the line plots\n",
        "plt.plot(x, y1, label='Line 1')\n",
        "plt.plot(x, y2, label='Line 2')\n",
        "\n",
        "# Add labels, title, and legend\n",
        "plt.xlabel('X-axis')\n",
        "plt.ylabel('Y-axis')\n",
        "plt.title('Multiple Line Plot')\n",
        "plt.legend()\n",
        "\n",
        "# Show the plot\n",
        "plt.show()"
      ],
      "metadata": {
        "colab": {
          "base_uri": "https://localhost:8080/",
          "height": 472
        },
        "id": "u6ftrZRl8dMG",
        "outputId": "ffc26c7e-2589-4ad2-fccc-d976368cf6bb"
      },
      "execution_count": 11,
      "outputs": [
        {
          "output_type": "display_data",
          "data": {
            "text/plain": [
              "<Figure size 640x480 with 1 Axes>"
            ],
            "image/png": "[encoded data removed]"
          },
          "metadata": {}
        }
      ]
    },
    {
      "cell_type": "code",
      "source": [
        "# 9. Generate a Pandas DataFrame and filter rows where a column value is greater than a threshold\n",
        "import pandas as pd\n",
        "\n",
        "# Sample DataFrame\n",
        "data = {'values': [10, 25, 30, 45, 15]}\n",
        "df = pd.DataFrame(data)\n",
        "\n",
        "# Filter rows where 'values' is greater than 20\n",
        "filtered_df = df[df['values'] > 20]\n",
        "\n",
        "print(filtered_df)\n"
      ],
      "metadata": {
        "colab": {
          "base_uri": "https://localhost:8080/"
        },
        "id": "Efu5UGmX8rxE",
        "outputId": "841dc1f2-0214-4142-ecdd-5d82aa8f400b"
      },
      "execution_count": 12,
      "outputs": [
        {
          "output_type": "stream",
          "name": "stdout",
          "text": [
            "   values\n",
            "1      25\n",
            "2      30\n",
            "3      45\n"
          ]
        }
      ]
    },
    {
      "cell_type": "code",
      "source": [
        "# 10. Create a histogram using Seaborn to visualize a distribution\n",
        "import seaborn as sns\n",
        "import matplotlib.pyplot as plt\n",
        "import numpy as np\n",
        "\n",
        "# Sample data (normally distributed)\n",
        "data = np.random.normal(size=1000)\n",
        "\n",
        "# Create the histogram\n",
        "sns.histplot(data, kde=True)  # kde=True adds a kernel density estimate\n",
        "\n",
        "# Show the plot\n",
        "plt.show()"
      ],
      "metadata": {
        "colab": {
          "base_uri": "https://localhost:8080/",
          "height": 430
        },
        "id": "-BxEatOk83GB",
        "outputId": "4fd46bab-3f56-4374-cf36-ce23c2764cec"
      },
      "execution_count": 13,
      "outputs": [
        {
          "output_type": "display_data",
          "data": {
            "text/plain": [
              "<Figure size 640x480 with 1 Axes>"
            ],
            "image/png": "[encoded data removed]"
          },
          "metadata": {}
        }
      ]
    },
    {
      "cell_type": "code",
      "source": [
        "# 11. Perform matrix multiplication using NumPy\n",
        "import numpy as np\n",
        "\n",
        "# Create two matrices\n",
        "matrix1 = np.array([[1, 2], [3, 4]])\n",
        "matrix2 = np.array([[5, 6], [7, 8]])\n",
        "\n",
        "# Perform matrix multiplication\n",
        "result = np.dot(matrix1, matrix2)\n",
        "\n",
        "print(result)\n"
      ],
      "metadata": {
        "colab": {
          "base_uri": "https://localhost:8080/"
        },
        "id": "FaMtadMd8_zu",
        "outputId": "50185780-3538-4857-a7d5-b3ee3ffdcfec"
      },
      "execution_count": 14,
      "outputs": [
        {
          "output_type": "stream",
          "name": "stdout",
          "text": [
            "[[19 22]\n",
            " [43 50]]\n"
          ]
        }
      ]
    },
    {
      "cell_type": "code",
      "source": [
        "# 12. Use Pandas to load a CSV file and display its first 5 rows\n",
        "import pandas as pd\n",
        "\n",
        "# Load the CSV file (replace 'your_file.csv' with the actual filename)\n",
        "df = pd.read_csv('taxonomy.csv')\n",
        "\n",
        "# Display the first 5 rows\n",
        "print(df.head())\n",
        "\n"
      ],
      "metadata": {
        "colab": {
          "base_uri": "https://localhost:8080/"
        },
        "id": "CUl9dUpR9RQe",
        "outputId": "cd05cf50-13bc-4bd0-a4c6-89ab5f3e3c2c"
      },
      "execution_count": 16,
      "outputs": [
        {
          "output_type": "stream",
          "name": "stdout",
          "text": [
            "  taxonomy_id                     name parent_id     parent_name\n",
            "0         101                Emergency       NaN             NaN\n",
            "1      101-01        Disaster Response       101       Emergency\n",
            "2      101-02           Emergency Cash       101       Emergency\n",
            "3   101-02-01        Help Pay for Food    101-02  Emergency Cash\n",
            "4   101-02-02  Help Pay for Healthcare    101-02  Emergency Cash\n"
          ]
        }
      ]
    },
    {
      "cell_type": "code",
      "source": [
        "# 13. Create a 3D scatter plot using Plotly\n",
        "import plotly.graph_objects as go\n",
        "import numpy as np\n",
        "\n",
        "# Sample 3D data\n",
        "np.random.seed(42)\n",
        "x = np.random.randn(100)\n",
        "y = np.random.randn(100)\n",
        "z = np.random.randn(100)\n",
        "\n",
        "# Create the 3D scatter plot\n",
        "fig = go.Figure(data=[go.Scatter3d(x=x, y=y, z=z, mode='markers')])"
      ],
      "metadata": {
        "id": "Zj76j7529vG2"
      },
      "execution_count": 19,
      "outputs": []
    }
  ]
}